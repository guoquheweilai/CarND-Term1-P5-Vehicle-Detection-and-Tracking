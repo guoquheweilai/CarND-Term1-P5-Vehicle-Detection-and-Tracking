{
 "cells": [
  {
   "cell_type": "markdown",
   "metadata": {},
   "source": [
    "**Vehicle Detection Project**\n",
    "\n",
    "The goals / steps of this project are the following:\n",
    "\n",
    "* Perform a Histogram of Oriented Gradients (HOG) feature extraction on a labeled training set of images and train a classifier Linear SVM classifier\n",
    "* Optionally, you can also apply a color transform and append binned color features, as well as histograms of color, to your HOG feature vector. \n",
    "* Note: for those first two steps don't forget to normalize your features and randomize a selection for training and testing.\n",
    "* Implement a sliding-window technique and use your trained classifier to search for vehicles in images.\n",
    "* Run your pipeline on a video stream (start with the test_video.mp4 and later implement on full project_video.mp4) and create a heat map of recurring detections frame by frame to reject outliers and follow detected vehicles.\n",
    "* Estimate a bounding box for vehicles detected."
   ]
  },
  {
   "cell_type": "markdown",
   "metadata": {},
   "source": [
    "### Histogram of Oriented Gradients (HOG)\n",
    "\n",
    "#### 1. Explain how (and identify where in your code) you extracted HOG features from the training images.\n",
    "\n",
    "The code for this step is contained in the first code cell of the IPython notebook (or in lines # through # of the file called `some_file.py`).  \n",
    "\n",
    "I started by reading in all the `vehicle` and `non-vehicle` images.  Here is an example of one of each of the `vehicle` and `non-vehicle` classes:\n",
    "\n",
    "![alt text][image1]\n",
    "\n",
    "I then explored different color spaces and different `skimage.hog()` parameters (`orientations`, `pixels_per_cell`, and `cells_per_block`).  I grabbed random images from each of the two classes and displayed them to get a feel for what the `skimage.hog()` output looks like.\n",
    "\n",
    "Here is an example using the `YCrCb` color space and HOG parameters of `orientations=8`, `pixels_per_cell=(8, 8)` and `cells_per_block=(2, 2)`:\n",
    "\n",
    "\n",
    "![alt text][image2]"
   ]
  },
  {
   "cell_type": "markdown",
   "metadata": {},
   "source": [
    "__Import libraries__"
   ]
  },
  {
   "cell_type": "code",
   "execution_count": null,
   "metadata": {},
   "outputs": [],
   "source": [
    "import matplotlib.image as mpimg\n",
    "import matplotlib.pyplot as plt\n",
    "import numpy as np\n",
    "import cv2\n",
    "import glob\n",
    "import random\n",
    "\n",
    "% matplotlib inline"
   ]
  },
  {
   "cell_type": "markdown",
   "metadata": {},
   "source": [
    "__Import functions__"
   ]
  },
  {
   "cell_type": "code",
   "execution_count": null,
   "metadata": {
    "scrolled": false
   },
   "outputs": [],
   "source": [
    "from helper_functions import data_look"
   ]
  },
  {
   "cell_type": "markdown",
   "metadata": {},
   "source": [
    "__Initialization__"
   ]
  },
  {
   "cell_type": "code",
   "execution_count": null,
   "metadata": {},
   "outputs": [],
   "source": [
    "# Images are in PNG format and divided into vehichles and non-vehicles\n",
    "vehicles_images = glob.glob('./training_dataset/vehicles/*/*.png')\n",
    "non_vehicles_images = glob.glob('./training_dataset/non-vehicles/*/*.png')\n",
    "\n",
    "vehicles_all = []\n",
    "non_vehicles_all = []"
   ]
  },
  {
   "cell_type": "markdown",
   "metadata": {},
   "source": [
    "__Reading all images__"
   ]
  },
  {
   "cell_type": "code",
   "execution_count": null,
   "metadata": {},
   "outputs": [],
   "source": [
    "for image in vehicles_images:\n",
    "    vehicles_all.append(image)\n",
    "\n",
    "for image in non_vehicles_images:\n",
    "    non_vehicles_all.append(image)\n",
    "\n",
    "# Shuffle image data\n",
    "random.shuffle(vehicles_all)\n",
    "random.shuffle(non_vehicles_all)\n",
    "\n",
    "# Take the first 100 images for testing\n",
    "vehicles_test = vehicles_all[:8000]\n",
    "non_vehicles_test = non_vehicles_all[:8000]\n",
    "\n",
    "# Store some characteristics of the dataset\n",
    "data_info_test = data_look(vehicles_test, non_vehicles_test)\n",
    "\n",
    "print('Your function returned a count of', \n",
    "      data_info_test[\"n_vehicles\"], ' vehicles and', \n",
    "      data_info_test[\"n_non_vehicles\"], ' non-vehicles')\n",
    "print('of size: ',data_info_test[\"image_shape\"], ' and data type:', \n",
    "      data_info_test[\"data_type\"])"
   ]
  },
  {
   "cell_type": "markdown",
   "metadata": {},
   "source": [
    "__Plot one sample image from each classes__"
   ]
  },
  {
   "cell_type": "code",
   "execution_count": null,
   "metadata": {},
   "outputs": [],
   "source": [
    "# Return a random index within range of the minimum length in both lists\n",
    "idx_max = np.minimum(data_info_test[\"n_vehicles\"], data_info_test[\"n_non_vehicles\"])\n",
    "idx_random = np.random.randint(0, idx_max)\n",
    "print(\"Current random index is\", idx_random)\n",
    "\n",
    "# Read in vehicles / non-vehicles images\n",
    "vehicle_image_test = mpimg.imread(vehicles_test[idx_random])\n",
    "non_vehicle_image_test = mpimg.imread(non_vehicles_test[idx_random])\n",
    "\n",
    "# Plot the examples\n",
    "f, axs = plt.subplots(1, 2, figsize=(30, 15))\n",
    "axs = axs.ravel()\n",
    "\n",
    "axs[0].imshow(vehicle_image_test)\n",
    "axs[0].set_title('Example Vehicle Image', fontsize = 20)\n",
    "\n",
    "axs[1].imshow(non_vehicle_image_test)\n",
    "axs[1].set_title('Example Non-vehicle Image', fontsize = 20)\n",
    "\n",
    "f.tight_layout()\n",
    "plt.subplots_adjust(left=0., right=0.4, top=0.9, bottom=0.)"
   ]
  },
  {
   "cell_type": "markdown",
   "metadata": {},
   "source": [
    "__Apply HOG with different parameters__"
   ]
  },
  {
   "cell_type": "markdown",
   "metadata": {},
   "source": [
    "__Import functions__"
   ]
  },
  {
   "cell_type": "code",
   "execution_count": null,
   "metadata": {},
   "outputs": [],
   "source": [
    "from helper_functions import get_hog_features"
   ]
  },
  {
   "cell_type": "markdown",
   "metadata": {},
   "source": [
    "__Define parameters__"
   ]
  },
  {
   "cell_type": "code",
   "execution_count": null,
   "metadata": {},
   "outputs": [],
   "source": [
    "# Define HOG parameters\n",
    "# First set\n",
    "orient = 9\n",
    "pix_per_cell = 8\n",
    "cell_per_block = 2\n",
    "vis = True\n",
    "feature_vec = False\n",
    "\n",
    "# Second set\n",
    "orient_2 = 9\n",
    "pix_per_cell_2 = 4\n",
    "cell_per_block_2 = 2\n",
    "vis_2 = True\n",
    "feature_vec_2 = False\n",
    "\n",
    "# Third set\n",
    "orient_3 = 9\n",
    "pix_per_cell_3 = 16\n",
    "cell_per_block_3 = 2\n",
    "vis_3 = True\n",
    "feature_vec_3 = False"
   ]
  },
  {
   "cell_type": "markdown",
   "metadata": {},
   "source": [
    "__Covert to grayscale__"
   ]
  },
  {
   "cell_type": "code",
   "execution_count": null,
   "metadata": {},
   "outputs": [],
   "source": [
    "# Convert to grayscale\n",
    "gray_vehicle_test = cv2.cvtColor(vehicle_image_test, cv2.COLOR_RGB2GRAY)\n",
    "gray_non_vehicle_test = cv2.cvtColor(non_vehicle_image_test, cv2.COLOR_RGB2GRAY)"
   ]
  },
  {
   "cell_type": "markdown",
   "metadata": {},
   "source": [
    "__Return HOG features and visualization__"
   ]
  },
  {
   "cell_type": "code",
   "execution_count": null,
   "metadata": {
    "scrolled": true
   },
   "outputs": [],
   "source": [
    "# Return HOG features and visualization\n",
    "# First set\n",
    "features_vehicle, hog_image_vehicle = get_hog_features(gray_vehicle_test, orient,\n",
    "                                                      pix_per_cell, cell_per_block,\n",
    "                                                      vis, feature_vec)\n",
    "\n",
    "features_non_vehicle, hog_image_non_vehicle = get_hog_features(gray_non_vehicle_test, orient,\n",
    "                                                      pix_per_cell, cell_per_block,\n",
    "                                                      vis, feature_vec)\n",
    "\n",
    "# Second set\n",
    "features_vehicle_2, hog_image_vehicle_2 = get_hog_features(gray_vehicle_test, orient_2,\n",
    "                                                      pix_per_cell_2, cell_per_block_2,\n",
    "                                                      vis_2, feature_vec_2)\n",
    "\n",
    "features_non_vehicle_2, hog_image_non_vehicle_2 = get_hog_features(gray_non_vehicle_test, orient_2,\n",
    "                                                      pix_per_cell_2, cell_per_block_2,\n",
    "                                                      vis_2, feature_vec_2)\n",
    "\n",
    "# Third set\n",
    "features_vehicle_3, hog_image_vehicle_3 = get_hog_features(gray_vehicle_test, orient_3,\n",
    "                                                      pix_per_cell_3, cell_per_block_3,\n",
    "                                                      vis_3, feature_vec_3)\n",
    "\n",
    "features_non_vehicle_3, hog_image_non_vehicle_3 = get_hog_features(gray_non_vehicle_test, orient_3,\n",
    "                                                      pix_per_cell_3, cell_per_block_3,\n",
    "                                                      vis_3, feature_vec_3)"
   ]
  },
  {
   "cell_type": "markdown",
   "metadata": {},
   "source": [
    "__Plot images__"
   ]
  },
  {
   "cell_type": "code",
   "execution_count": null,
   "metadata": {},
   "outputs": [],
   "source": [
    "# Plot the examples\n",
    "f, axs = plt.subplots(2, 4, figsize=(30, 30))\n",
    "axs = axs.ravel()\n",
    "\n",
    "axs[0].imshow(gray_vehicle_test)\n",
    "axs[0].set_title('Grayscale Vehicle Image', fontsize = 20)\n",
    "\n",
    "axs[1].imshow(hog_image_vehicle)\n",
    "axs[1].set_title('HOG Visualization Vehicle Image', fontsize = 20)\n",
    "\n",
    "axs[2].imshow(hog_image_vehicle_2)\n",
    "axs[2].set_title('HOG Visualization Vehicle Image 2', fontsize = 20)\n",
    "\n",
    "axs[3].imshow(hog_image_vehicle_3)\n",
    "axs[3].set_title('HOG Visualization Vehicle Image 3', fontsize = 20)\n",
    "\n",
    "axs[4].imshow(gray_non_vehicle_test)\n",
    "axs[4].set_title('Grayscale Non-Vehicle Image', fontsize = 20)\n",
    "\n",
    "axs[5].imshow(hog_image_non_vehicle)\n",
    "axs[5].set_title('HOG Visualization Non-vehicle Image', fontsize = 20)\n",
    "\n",
    "axs[6].imshow(hog_image_non_vehicle_2)\n",
    "axs[6].set_title('HOG Visualization Non-vehicle Image 2', fontsize = 20)\n",
    "\n",
    "axs[7].imshow(hog_image_non_vehicle_3)\n",
    "axs[7].set_title('HOG Visualization Non-vehicle Image 3', fontsize = 20)\n",
    "\n",
    "f.tight_layout()\n",
    "plt.subplots_adjust(left=0.1, right=0.85, top=0.85, bottom=0.3)"
   ]
  },
  {
   "cell_type": "markdown",
   "metadata": {},
   "source": [
    "__Apply spatial binning and color histogram in different color spaces__"
   ]
  },
  {
   "cell_type": "markdown",
   "metadata": {},
   "source": [
    "__Import libraries__"
   ]
  },
  {
   "cell_type": "code",
   "execution_count": null,
   "metadata": {},
   "outputs": [],
   "source": [
    "from sklearn.preprocessing import StandardScaler\n",
    "from mpl_toolkits.mplot3d import Axes3D"
   ]
  },
  {
   "cell_type": "markdown",
   "metadata": {},
   "source": [
    "__Import functions__"
   ]
  },
  {
   "cell_type": "code",
   "execution_count": null,
   "metadata": {},
   "outputs": [],
   "source": [
    "from helper_functions import extract_features_bin_spatial_hist, plot3d"
   ]
  },
  {
   "cell_type": "markdown",
   "metadata": {},
   "source": [
    "__Define parameters__"
   ]
  },
  {
   "cell_type": "code",
   "execution_count": null,
   "metadata": {},
   "outputs": [],
   "source": [
    "# RGB\n",
    "color_space = 'RGB'\n",
    "spatial_size=(32, 32)\n",
    "hist_bins=32\n",
    "hist_range=(0, 256)\n",
    "\n",
    "# HSV\n",
    "color_space_2 = 'RGB'\n",
    "spatial_size_2 = (32, 32)\n",
    "hist_bins_2 = 32\n",
    "hist_range_2 = (0, 256)\n",
    "\n",
    "# HLS\n",
    "color_space_3 = 'HLS'\n",
    "spatial_size_3 = (32, 32)\n",
    "hist_bins_3 = 32\n",
    "hist_range_3 = (0, 256)\n",
    "\n",
    "# YCrCb\n",
    "color_space_4 = 'YCrCb'\n",
    "spatial_size_4 = (32, 32)\n",
    "hist_bins_4 = 32\n",
    "hist_range_4 = (0, 256)"
   ]
  },
  {
   "cell_type": "markdown",
   "metadata": {},
   "source": [
    "__Return spatial binning of color features__"
   ]
  },
  {
   "cell_type": "code",
   "execution_count": null,
   "metadata": {
    "scrolled": true
   },
   "outputs": [],
   "source": [
    "# RGB\n",
    "features_bin_spatial_hist_vehicle = extract_features_bin_spatial_hist(vehicles_test, color_space, spatial_size,\n",
    "                        hist_bins, hist_range)\n",
    "\n",
    "features_bin_spatial_hist_non_vehicle = extract_features_bin_spatial_hist(non_vehicles_test, color_space, spatial_size,\n",
    "                        hist_bins, hist_range)\n",
    "\n",
    "# HSV\n",
    "features_bin_spatial_hist_vehicle_2 = extract_features_bin_spatial_hist(vehicles_test, color_space_2, spatial_size_2,\n",
    "                        hist_bins_2, hist_range_2)\n",
    "\n",
    "features_bin_spatial_hist_non_vehicle_2 = extract_features_bin_spatial_hist(non_vehicles_test, color_space_2, spatial_size_2,\n",
    "                        hist_bins_2, hist_range_2)\n",
    "\n",
    "# HLS\n",
    "features_bin_spatial_hist_vehicle_3 = extract_features_bin_spatial_hist(vehicles_test, color_space_3, spatial_size_3,\n",
    "                        hist_bins_3, hist_range_3)\n",
    "\n",
    "features_bin_spatial_hist_non_vehicle_3 = extract_features_bin_spatial_hist(non_vehicles_test, color_space_3, spatial_size_3,\n",
    "                        hist_bins_3, hist_range_3)\n",
    "\n",
    "# YCrCb\n",
    "features_bin_spatial_hist_vehicle_4 = extract_features_bin_spatial_hist(vehicles_test, color_space_4, spatial_size_4,\n",
    "                        hist_bins_4, hist_range_4)\n",
    "\n",
    "features_bin_spatial_hist_non_vehicle_4 = extract_features_bin_spatial_hist(non_vehicles_test, color_space_4, spatial_size_4,\n",
    "                        hist_bins_4, hist_range_4)"
   ]
  },
  {
   "cell_type": "markdown",
   "metadata": {},
   "source": [
    "__Normalize feature vectors__"
   ]
  },
  {
   "cell_type": "code",
   "execution_count": null,
   "metadata": {},
   "outputs": [],
   "source": [
    "# RGB\n",
    "if len(features_bin_spatial_hist_vehicle) > 0:\n",
    "    # Create an array stack of feature vectors\n",
    "    X = np.vstack((features_bin_spatial_hist_vehicle, features_bin_spatial_hist_non_vehicle)).astype(np.float64)\n",
    "    # Fit a per-column scaler\n",
    "    X_scaler = StandardScaler().fit(X)\n",
    "    # Apply the scaler to X\n",
    "    scaled_X = X_scaler.transform(X)\n",
    "else: \n",
    "    print('Your function only returns empty feature vectors for RGB')\n",
    "    \n",
    "# HSV\n",
    "if len(features_bin_spatial_hist_vehicle_2) > 0:\n",
    "    # Create an array stack of feature vectors\n",
    "    X_2 = np.vstack((features_bin_spatial_hist_vehicle_2, features_bin_spatial_hist_non_vehicle_2)).astype(np.float64)\n",
    "    # Fit a per-column scaler\n",
    "    X_scaler_2 = StandardScaler().fit(X_2)\n",
    "    # Apply the scaler to X\n",
    "    scaled_X_2 = X_scaler_2.transform(X_2)\n",
    "else: \n",
    "    print('Your function only returns empty feature vectors for HSV')\n",
    "    \n",
    "# HLS\n",
    "if len(features_bin_spatial_hist_vehicle_3) > 0:\n",
    "    # Create an array stack of feature vectors\n",
    "    X_3 = np.vstack((features_bin_spatial_hist_vehicle_3, features_bin_spatial_hist_non_vehicle_3)).astype(np.float64)\n",
    "    # Fit a per-column scaler\n",
    "    X_scaler_3 = StandardScaler().fit(X_3)\n",
    "    # Apply the scaler to X\n",
    "    scaled_X_3 = X_scaler_3.transform(X_3)\n",
    "else: \n",
    "    print('Your function only returns empty feature vectors for HLS')\n",
    "    \n",
    "# YCrCb\n",
    "if len(features_bin_spatial_hist_vehicle_4) > 0:\n",
    "    # Create an array stack of feature vectors\n",
    "    X_4 = np.vstack((features_bin_spatial_hist_vehicle_4, features_bin_spatial_hist_non_vehicle_4)).astype(np.float64)\n",
    "    # Fit a per-column scaler\n",
    "    X_scaler_4 = StandardScaler().fit(X_4)\n",
    "    # Apply the scaler to X\n",
    "    scaled_X_4 = X_scaler_4.transform(X_4)\n",
    "else: \n",
    "    print('Your function only returns empty feature vectors for YCrCb')"
   ]
  },
  {
   "cell_type": "markdown",
   "metadata": {},
   "source": [
    "__Plot images__"
   ]
  },
  {
   "cell_type": "code",
   "execution_count": null,
   "metadata": {},
   "outputs": [],
   "source": [
    "# Plot image\n",
    "\n",
    "fig = plt.figure(figsize=(12,4))\n",
    "\n",
    "# RGB\n",
    "plt.subplot(241)\n",
    "plt.plot(X[idx_random])\n",
    "plt.title('Raw Features(RGB)')\n",
    "plt.subplot(245)\n",
    "plt.plot(scaled_X[idx_random])\n",
    "plt.title('Normalized Features(RGB)')\n",
    "\n",
    "# HSV\n",
    "plt.subplot(242)\n",
    "plt.plot(X_2[idx_random])\n",
    "plt.title('Raw Features(HSV)')\n",
    "plt.subplot(246)\n",
    "plt.plot(scaled_X_2[idx_random])\n",
    "plt.title('Normalized Features(HSV)')\n",
    "\n",
    "# HLS\n",
    "plt.subplot(243)\n",
    "plt.plot(X_3[idx_random])\n",
    "plt.title('Raw Features(HLS)')\n",
    "plt.subplot(247)\n",
    "plt.plot(scaled_X_3[idx_random])\n",
    "plt.title('Normalized Features(HLS)')\n",
    "\n",
    "# YCrCb\n",
    "plt.subplot(244)\n",
    "plt.plot(X_4[idx_random])\n",
    "plt.title('Raw Features(YCrCb)')\n",
    "plt.subplot(248)\n",
    "plt.plot(scaled_X_4[idx_random])\n",
    "plt.title('Normalized Features(YCrCb)')\n",
    "\n",
    "fig.tight_layout()\n"
   ]
  },
  {
   "cell_type": "markdown",
   "metadata": {},
   "source": [
    "__Plot image in 3D__"
   ]
  },
  {
   "cell_type": "code",
   "execution_count": null,
   "metadata": {},
   "outputs": [],
   "source": [
    "# Read a color image\n",
    "img = cv2.imread(vehicles_test[idx_random])\n",
    "#img = cv2.imread(\"000275.png\")\n",
    "#img = mpimg.imread(vehicles[idx_random])\n",
    "\n",
    "# Select a small fraction of pixels to plot by subsampling it\n",
    "scale = max(img.shape[0], img.shape[1], 64) / 64  # at most 64 rows and columns\n",
    "img_small = cv2.resize(img, (np.int(img.shape[1] / scale), np.int(img.shape[0] / scale)), interpolation=cv2.INTER_NEAREST)\n",
    "\n",
    "# Convert subsampled image to desired color space(s)\n",
    "# RGB\n",
    "img_small_RGB = cv2.cvtColor(img_small, cv2.COLOR_BGR2RGB)  # OpenCV uses BGR, matplotlib likes RGB\n",
    "img_small_rgb = img_small_RGB / 255.  # scaled to [0, 1], only for plotting\n",
    "# HSV\n",
    "img_small_HSV = cv2.cvtColor(img_small, cv2.COLOR_BGR2HSV)\n",
    "# HLS\n",
    "img_small_HLS = cv2.cvtColor(img_small, cv2.COLOR_BGR2HLS)\n",
    "# YCrCb\n",
    "img_small_YCrCb = cv2.cvtColor(img_small, cv2.COLOR_BGR2YCrCb)\n",
    "\n",
    "\n",
    "# Plot and show\n",
    "plot3d(img_small_RGB, img_small_rgb)\n",
    "plt.show()\n",
    "\n",
    "plot3d(img_small_HSV, img_small_rgb, axis_labels=list(\"HSV\"))\n",
    "plt.show()\n",
    "\n",
    "plot3d(img_small_HLS, img_small_rgb, axis_labels=list(\"HLS\"))\n",
    "plt.show()\n",
    "\n",
    "plot3d(img_small_YCrCb, img_small_rgb, axis_labels=list(\"YCrCb\"))\n",
    "plt.show()"
   ]
  },
  {
   "cell_type": "markdown",
   "metadata": {},
   "source": [
    "#### 2. Explain how you settled on your final choice of HOG parameters."
   ]
  },
  {
   "cell_type": "markdown",
   "metadata": {},
   "source": [
    "I tried various combinations of parameters and came up th following decision with explanation.\n",
    "The documentation for `hog()` function can be found [here](http://scikit-image.org/docs/dev/api/skimage.feature.html?highlight=feature%20hog#skimage.feature.hog).\n",
    "\n",
    "* For orientations, either 9 or 17 would be acceptable. I go with `orientation = 9`.\n",
    "* For pixels_per_cell, smaller number will return more cells. For a 64 by 64 pixels picture, `pix per cell = 8` is good enough.\n",
    "* For cells per block, either 2 or 4 would be good. I go with `cell_per_block = 2`.\n",
    "* For visualize, I don't need the image return back in the following cells. Set `False` to it.\n",
    "* For feature_vector, I need it to be a 1 demensional array for concatenating to other features. Therefore, set `True` to it.\n",
    "* For multichannel, I am using `HLS` color space with `ALL` channels\n",
    "___\n",
    "__Final list__  \n",
    "orient_final = 9  \n",
    "pix_per_cell_final = 8  \n",
    "cell_per_block_final = 2  \n",
    "vis_final = False  \n",
    "feature_vec_final = True  \n",
    "multichannel_final = 'ALL'  \n"
   ]
  },
  {
   "cell_type": "markdown",
   "metadata": {},
   "source": [
    "#### 3. Describe how (and identify where in your code) you trained a classifier using your selected HOG features (and color features if you used them).\n",
    "\n",
    "I trained a linear SVM using the following features:\n",
    "+ __Color features(spatial binning, color histogram)__  \n",
    "color_space_final = 'HLS'  \n",
    "spatial_size_final = (32, 32)  \n",
    "hist_bins_final = 32  \n",
    "hist_range_final = (0, 256)  \n",
    "  \n",
    "  \n",
    "+ __HOG features__  \n",
    "orient_final = 9  \n",
    "pix_per_cell_final = 8  \n",
    "cell_per_block_final = 2  \n",
    "vis_final = False  \n",
    "feature_vec_final = True  \n",
    "multichannel_final = 'ALL'  \n",
    "___\n",
    "Here are the training steps:\n",
    "+ Extract the specific features from the dataset\n",
    "+ Normalie the extracted features vector\n",
    "+ Define labels vector\n",
    "+ Split up and randomize on both extracted features vector and labels vector\n",
    "    - Return training dataset and test dataset\n",
    "+ Create SVM\n",
    "+ Fit the training dataset into SVM\n",
    "+ Evaluate the accuracy of SVM\n",
    "+ Predict the result with the test dataset\n",
    "+ Done"
   ]
  },
  {
   "cell_type": "markdown",
   "metadata": {},
   "source": [
    "__Import libraries__"
   ]
  },
  {
   "cell_type": "code",
   "execution_count": null,
   "metadata": {
    "scrolled": true
   },
   "outputs": [],
   "source": [
    "import time\n",
    "from sklearn.svm import LinearSVC\n",
    "from sklearn.cross_validation import train_test_split\n",
    "# But, if you are using scikit-learn >= 0.18 then use this:\n",
    "# from sklearn.model_selection import train_test_split"
   ]
  },
  {
   "cell_type": "markdown",
   "metadata": {},
   "source": [
    "__Import functions__"
   ]
  },
  {
   "cell_type": "code",
   "execution_count": null,
   "metadata": {},
   "outputs": [],
   "source": [
    "from helper_functions import extract_features_single_image"
   ]
  },
  {
   "cell_type": "markdown",
   "metadata": {},
   "source": [
    "__Define parameters__"
   ]
  },
  {
   "cell_type": "code",
   "execution_count": null,
   "metadata": {},
   "outputs": [],
   "source": [
    "# Define parameters\n",
    "color_space_final = 'HLS'  \n",
    "spatial_size_final = (32, 32)  \n",
    "hist_bins_final = 32  \n",
    "hist_range_final = (0, 256)  \n",
    "\n",
    "orient_final = 9  \n",
    "pix_per_cell_final = 8  \n",
    "cell_per_block_final = 2  \n",
    "vis_final = False # Hardcoded in the function extract_features_single_image()\n",
    "feature_vec_final = True # Hardcoded in the function extract_features_single_image()\n",
    "multichannel_final = 'ALL'   # Can be 0, 1, 2, or \"ALL\"\n",
    "spatial_feat = True # Spatial features on or off\n",
    "hist_feat = True # Histogram features on or off\n",
    "hog_feat = True # HOG features on or off"
   ]
  },
  {
   "cell_type": "markdown",
   "metadata": {},
   "source": [
    "__Extract the specific features from the dataset__"
   ]
  },
  {
   "cell_type": "code",
   "execution_count": null,
   "metadata": {
    "scrolled": true
   },
   "outputs": [],
   "source": [
    "t1=time.time()\n",
    "\n",
    "# Create a list to append feature vectors to\n",
    "vehicle_features_all = []\n",
    "non_vehicle_features_all = []\n",
    "\n",
    "# Extract features from each images\n",
    "for vehicle_img_path in vehicles_test:\n",
    "    # Read in vehicles\n",
    "    vehicle_image = mpimg.imread(vehicle_img_path)\n",
    "    # Extract features from image\n",
    "    single_image_features = extract_features_single_image(vehicle_image, color_space=color_space_final, spatial_size=spatial_size_final, \n",
    "                                                          hist_bins=hist_bins_final, hist_range=hist_range_final, orient=orient_final, \n",
    "                                                          pix_per_cell=pix_per_cell_final, cell_per_block=cell_per_block_final, hog_channel=multichannel_final, \n",
    "                                                          spatial_feat=spatial_feat, hist_feat=hist_feat, hog_feat=hog_feat)\n",
    "    # Append the new feature vector to the features list\n",
    "    vehicle_features_all.append(single_image_features)\n",
    "\n",
    "t2 = time.time()\n",
    "print(round(t2-t1, 2), 'Seconds to extract features from vehicle images.')\n",
    "    \n",
    "# Extract features from each images\n",
    "for non_vehicle_img_path in non_vehicles_test:\n",
    "    # Read in vehicles\n",
    "    non_vehicle_image = mpimg.imread(non_vehicle_img_path)\n",
    "    # Extract features from image\n",
    "    single_image_features = extract_features_single_image(non_vehicle_image, color_space=color_space_final, spatial_size=spatial_size_final, \n",
    "                                                          hist_bins=hist_bins_final, hist_range=hist_range_final, orient=orient_final, \n",
    "                                                          pix_per_cell=pix_per_cell_final, cell_per_block=cell_per_block_final, hog_channel=multichannel_final, \n",
    "                                                          spatial_feat=spatial_feat, hist_feat=hist_feat, hog_feat=hog_feat)\n",
    "    # Append the new feature vector to the features list\n",
    "    non_vehicle_features_all.append(single_image_features)\n",
    "\n",
    "t3 = time.time()\n",
    "print(round(t3-t2, 2), 'Seconds to extract features from non-vehicle images.')\n",
    "    \n",
    "# features_bin_spatial_hist_vehicle_final = extract_features_bin_spatial_hist(vehicles, \n",
    "#                                                                             color_space_final, spatial_size_final, \n",
    "#                                                                             hist_bins_final, hist_range_final)\n",
    "\n",
    "# features_bin_spatial_hist_non_vehicle_final = extract_features_bin_spatial_hist(non_vehicles, \n",
    "#                                                                                 color_space_final, spatial_size_final, \n",
    "#                                                                                 hist_bins_final, hist_range_final)\n",
    "\n",
    "# # HOG features\n",
    "# features_vehicle_final = get_hog_features(gray_vehicle, orient_final,\n",
    "#                                     pix_per_cell_final, cell_per_block_final,\n",
    "#                                     vis_final, feature_vec_final)\n",
    "\n",
    "# features_non_vehicle_final = get_hog_features(gray_non_vehicle, orient_final,\n",
    "#                                         pix_per_cell_final, cell_per_block_final,\n",
    "#                                         vis_final, feature_vec_final)\n",
    "\n",
    "\n",
    "# print(\"The length of features_bin_spatial_hist_vehicle_final is\", len(features_bin_spatial_hist_vehicle_final))\n",
    "# print(\"The length of features_bin_spatial_hist_non_vehicle_final is\", len(features_bin_spatial_hist_non_vehicle_final))\n",
    "# print(\"The length of features_vehicle_final is\", len(features_vehicle_final))\n",
    "# print(\"The length of features_non_vehicle_final is\", len(features_non_vehicle_final))"
   ]
  },
  {
   "cell_type": "markdown",
   "metadata": {},
   "source": [
    "__Normalie the extracted features vector__"
   ]
  },
  {
   "cell_type": "code",
   "execution_count": null,
   "metadata": {},
   "outputs": [],
   "source": [
    "# Normalize\n",
    "if len(vehicle_features_all) > 0:\n",
    "    # Create an array stack of feature vectors\n",
    "    X_final = np.vstack((vehicle_features_all, non_vehicle_features_all)).astype(np.float64)                        \n",
    "    # Fit a per-column scaler\n",
    "    X_scaler_final = StandardScaler().fit(X_final)\n",
    "    # Apply the scaler to X\n",
    "    scaled_X_final = X_scaler_final.transform(X_final)\n",
    "else: \n",
    "    print('Your function only returns empty feature vectors for RGB')"
   ]
  },
  {
   "cell_type": "markdown",
   "metadata": {},
   "source": [
    "__Define labels vector__"
   ]
  },
  {
   "cell_type": "code",
   "execution_count": null,
   "metadata": {},
   "outputs": [],
   "source": [
    "# Define the labels vector\n",
    "y_final = np.hstack((np.ones(len(vehicle_features_all)), \n",
    "               np.zeros(len(non_vehicle_features_all))))"
   ]
  },
  {
   "cell_type": "markdown",
   "metadata": {},
   "source": [
    "__Split up and randomize on both extracted features vector and labels vector__"
   ]
  },
  {
   "cell_type": "code",
   "execution_count": null,
   "metadata": {},
   "outputs": [],
   "source": [
    "# Split up data into randomized training and test sets\n",
    "rand_state = np.random.randint(0, 100)\n",
    "X_train, X_test, y_train, y_test = train_test_split(\n",
    "    scaled_X_final, y_final, test_size=0.2, random_state=rand_state)\n",
    "\n",
    "print('Using spatial binning of:',spatial_size_final,\n",
    "    'and', hist_bins_final,'histogram bins')\n",
    "print('Feature vector length:', len(X_train[0]))"
   ]
  },
  {
   "cell_type": "markdown",
   "metadata": {},
   "source": [
    "__Create SVM__"
   ]
  },
  {
   "cell_type": "code",
   "execution_count": null,
   "metadata": {},
   "outputs": [],
   "source": [
    "# Use a linear SVC \n",
    "svc = LinearSVC()"
   ]
  },
  {
   "cell_type": "markdown",
   "metadata": {},
   "source": [
    "__Fit the training dataset into SVM__"
   ]
  },
  {
   "cell_type": "code",
   "execution_count": null,
   "metadata": {},
   "outputs": [],
   "source": [
    "# Check the training time for the SVC\n",
    "t=time.time()\n",
    "svc.fit(X_train, y_train)\n",
    "t2 = time.time()\n",
    "print(round(t2-t, 2), 'Seconds to train SVC...')"
   ]
  },
  {
   "cell_type": "markdown",
   "metadata": {},
   "source": [
    "__Evaluate the accuracy of SVM__"
   ]
  },
  {
   "cell_type": "code",
   "execution_count": null,
   "metadata": {},
   "outputs": [],
   "source": [
    "# Check the score of the SVC\n",
    "print('Test Accuracy of SVC = ', round(svc.score(X_test, y_test), 4))"
   ]
  },
  {
   "cell_type": "markdown",
   "metadata": {},
   "source": [
    "__Predict the result with the test dataset__"
   ]
  },
  {
   "cell_type": "code",
   "execution_count": null,
   "metadata": {},
   "outputs": [],
   "source": [
    "# Check the prediction time for a single sample\n",
    "t=time.time()\n",
    "n_predict = 10\n",
    "print('My SVC predicts: ', svc.predict(X_test[0:n_predict]))\n",
    "print('For these',n_predict, 'labels: ', y_test[0:n_predict])\n",
    "t2 = time.time()\n",
    "print(round(t2-t, 5), 'Seconds to predict', n_predict,'labels with SVC')"
   ]
  },
  {
   "cell_type": "markdown",
   "metadata": {},
   "source": [
    "__Save data to a dictonary for future use__"
   ]
  },
  {
   "cell_type": "code",
   "execution_count": null,
   "metadata": {},
   "outputs": [],
   "source": [
    "# # Create dictionary\n",
    "# dict_vehicle_detection = {\"svc\": svc, \n",
    "#                           \"X_scaler\": X_scaler_final, \n",
    "#                           \"orient\": orient_final, \n",
    "#                           \"pix_per_cell\": pix_per_cell_final, \n",
    "#                           \"cell_per_block\": cell_per_block_final, \n",
    "#                           \"spatial_size\": spatial_size_final, \n",
    "#                           \"hist_bins\": hist_bins_final, \n",
    "#                           \"hist_range\": hist_range_final\n",
    "#                          }\n",
    "\n",
    "# # Save dictionary\n",
    "# pickle.dump(dict_vehicle_detection, open('dict_vehicle_detection.p', 'wb'))"
   ]
  },
  {
   "cell_type": "markdown",
   "metadata": {},
   "source": [
    "### Sliding Window Search\n",
    "\n",
    "#### 1. Describe how (and identify where in your code) you implemented a sliding window search.  How did you decide what scales to search and how much to overlap windows?\n",
    "\n",
    "I decided to set search window scale at `(64, 64)` and overlap at `(0.5, 0.5)` based on the experiment below. The code below is used to evaluate the performance of different combination of window scale and overlap value.  \n",
    "From the final result, I come up the following conclusions:\n",
    "* Larger overlap will result in more match windows\n",
    "* Less overlap will result in less match window, nevertheless, not good for the following steps \"add heat\" and \"filter\".\n",
    "* Smaller window will give you more match windows to analyze\n",
    "* Bigger window will result less overlap, not good for the following steps \"add heat\" and \"filter\"."
   ]
  },
  {
   "cell_type": "markdown",
   "metadata": {},
   "source": [
    "__Import functions__"
   ]
  },
  {
   "cell_type": "code",
   "execution_count": null,
   "metadata": {},
   "outputs": [],
   "source": [
    "from helper_functions import slide_window, search_windows, draw_boxes"
   ]
  },
  {
   "cell_type": "markdown",
   "metadata": {},
   "source": [
    "__Read in test image__"
   ]
  },
  {
   "cell_type": "code",
   "execution_count": null,
   "metadata": {},
   "outputs": [],
   "source": [
    "image = mpimg.imread('./test_images/test1.jpg')\n",
    "draw_image = np.copy(image)\n",
    "\n",
    "# Uncomment the following line if you extracted training\n",
    "# data from .png images (scaled 0 to 1 by mpimg) and the\n",
    "# image you are searching is a .jpg (scaled 0 to 255)\n",
    "image = image.astype(np.float32)/255"
   ]
  },
  {
   "cell_type": "markdown",
   "metadata": {},
   "source": [
    "__Define Parameters__"
   ]
  },
  {
   "cell_type": "code",
   "execution_count": null,
   "metadata": {},
   "outputs": [],
   "source": [
    "y_max = image.shape[0]\n",
    "y_start_stop = [np.int(y_max/2), y_max] # Min and max in y to search in slide_window()\n",
    "\n",
    "# First set\n",
    "xy_window_1 = (64, 64)\n",
    "xy_overlap_1 = (0.5, 0.5)\n",
    "\n",
    "# Second set\n",
    "xy_window_2 = (64, 64)\n",
    "xy_overlap_2 = (0.2, 0.2)\n",
    "\n",
    "# Third set\n",
    "xy_window_3 = (64, 64)\n",
    "xy_overlap_3 = (0.8, 0.8)\n",
    "\n",
    "# Fourth set\n",
    "xy_window_4 = (32, 32)\n",
    "xy_overlap_4 = (0.5, 0.5)\n",
    "\n",
    "# Fifth set\n",
    "xy_window_5 = (96, 96)\n",
    "xy_overlap_5 = (0.5, 0.5)"
   ]
  },
  {
   "cell_type": "markdown",
   "metadata": {},
   "source": [
    "__Search windows__"
   ]
  },
  {
   "cell_type": "code",
   "execution_count": null,
   "metadata": {},
   "outputs": [],
   "source": [
    "# First set\n",
    "windows_1 = slide_window(image, x_start_stop=[None, None], y_start_stop=y_start_stop, \n",
    "                    xy_window=xy_window_1, xy_overlap=xy_overlap_1)\n",
    "\n",
    "hot_windows_1 = search_windows(image, windows_1, svc, X_scaler_final, color_space=color_space_final, \n",
    "                        spatial_size=spatial_size_final, hist_bins=hist_bins_final, hist_range = hist_range_final, \n",
    "                        orient=orient_final, pix_per_cell=pix_per_cell_final, \n",
    "                        cell_per_block=cell_per_block_final, \n",
    "                        hog_channel=multichannel_final, spatial_feat=spatial_feat, \n",
    "                        hist_feat=hist_feat, hog_feat=hog_feat)                       \n",
    "\n",
    "window_img_1 = draw_boxes(draw_image, hot_windows_1, color=(0, 0, 255), thick=6)\n",
    "\n",
    "# Second set\n",
    "windows_2 = slide_window(image, x_start_stop=[None, None], y_start_stop=y_start_stop, \n",
    "                    xy_window=xy_window_2, xy_overlap=xy_overlap_2)\n",
    "\n",
    "hot_windows_2 = search_windows(image, windows_2, svc, X_scaler_final, color_space=color_space_final, \n",
    "                        spatial_size=spatial_size_final, hist_bins=hist_bins_final, hist_range = hist_range_final, \n",
    "                        orient=orient_final, pix_per_cell=pix_per_cell_final, \n",
    "                        cell_per_block=cell_per_block_final, \n",
    "                        hog_channel=multichannel_final, spatial_feat=spatial_feat, \n",
    "                        hist_feat=hist_feat, hog_feat=hog_feat)                       \n",
    "\n",
    "window_img_2 = draw_boxes(draw_image, hot_windows_2, color=(0, 0, 255), thick=6)\n",
    "\n",
    "# Third set\n",
    "windows_3 = slide_window(image, x_start_stop=[None, None], y_start_stop=y_start_stop, \n",
    "                    xy_window=xy_window_3, xy_overlap=xy_overlap_3)\n",
    "\n",
    "hot_windows_3 = search_windows(image, windows_3, svc, X_scaler_final, color_space=color_space_final, \n",
    "                        spatial_size=spatial_size_final, hist_bins=hist_bins_final, hist_range = hist_range_final, \n",
    "                        orient=orient_final, pix_per_cell=pix_per_cell_final, \n",
    "                        cell_per_block=cell_per_block_final, \n",
    "                        hog_channel=multichannel_final, spatial_feat=spatial_feat, \n",
    "                        hist_feat=hist_feat, hog_feat=hog_feat)                       \n",
    "\n",
    "window_img_3 = draw_boxes(draw_image, hot_windows_3, color=(0, 0, 255), thick=6)\n",
    "\n",
    "# Fourth set\n",
    "windows_4 = slide_window(image, x_start_stop=[None, None], y_start_stop=y_start_stop, \n",
    "                    xy_window=xy_window_4, xy_overlap=xy_overlap_4)\n",
    "\n",
    "hot_windows_4 = search_windows(image, windows_4, svc, X_scaler_final, color_space=color_space_final, \n",
    "                        spatial_size=spatial_size_final, hist_bins=hist_bins_final, hist_range = hist_range_final, \n",
    "                        orient=orient_final, pix_per_cell=pix_per_cell_final, \n",
    "                        cell_per_block=cell_per_block_final, \n",
    "                        hog_channel=multichannel_final, spatial_feat=spatial_feat, \n",
    "                        hist_feat=hist_feat, hog_feat=hog_feat)                       \n",
    "\n",
    "window_img_4 = draw_boxes(draw_image, hot_windows_4, color=(0, 0, 255), thick=6)\n",
    "\n",
    "# Fifth set\n",
    "windows_5 = slide_window(image, x_start_stop=[None, None], y_start_stop=y_start_stop, \n",
    "                    xy_window=xy_window_5, xy_overlap=xy_overlap_5)\n",
    "\n",
    "hot_windows_5 = search_windows(image, windows_5, svc, X_scaler_final, color_space=color_space_final, \n",
    "                        spatial_size=spatial_size_final, hist_bins=hist_bins_final, hist_range = hist_range_final, \n",
    "                        orient=orient_final, pix_per_cell=pix_per_cell_final, \n",
    "                        cell_per_block=cell_per_block_final, \n",
    "                        hog_channel=multichannel_final, spatial_feat=spatial_feat, \n",
    "                        hist_feat=hist_feat, hog_feat=hog_feat)                       \n",
    "\n",
    "window_img_5 = draw_boxes(draw_image, hot_windows_5, color=(0, 0, 255), thick=6)\n"
   ]
  },
  {
   "cell_type": "markdown",
   "metadata": {},
   "source": [
    "__Plot images__"
   ]
  },
  {
   "cell_type": "code",
   "execution_count": null,
   "metadata": {
    "scrolled": false
   },
   "outputs": [],
   "source": [
    "# Plot the examples\n",
    "f, axs = plt.subplots(2, 3, figsize=(36, 24))\n",
    "axs = axs.ravel()\n",
    "\n",
    "axs[0].imshow(window_img_1)\n",
    "axs[0].set_title('xy_window=(64,64) xy_overlap=(0.5,0.5)', fontsize = 20)\n",
    "\n",
    "axs[1].imshow(window_img_2)\n",
    "axs[1].set_title('xy_window=(64,64) xy_overlap=(0.2,0.2)', fontsize = 20)\n",
    "\n",
    "axs[2].imshow(window_img_3)\n",
    "axs[2].set_title('xy_window=(64,64) xy_overlap=(0.8,0.8)', fontsize = 20)\n",
    "\n",
    "axs[3].imshow(window_img_1)\n",
    "axs[3].set_title('xy_window=(64,64) xy_overlap=(0.5,0.5)', fontsize = 20)\n",
    "\n",
    "axs[4].imshow(window_img_4)\n",
    "axs[4].set_title('xy_window=(32,32) xy_overlap=(0.5,0.5)', fontsize = 20)\n",
    "\n",
    "axs[5].imshow(window_img_5)\n",
    "axs[5].set_title('xy_window=(96,96) xy_overlap=(0.5,0.5)', fontsize = 20)\n",
    "\n",
    "f.tight_layout()\n",
    "plt.subplots_adjust(left=0.1, right=0.85, top=0.85, bottom=0.3)"
   ]
  },
  {
   "cell_type": "markdown",
   "metadata": {},
   "source": [
    "#### 2. Show some examples of test images to demonstrate how your pipeline is working.  What did you do to optimize the performance of your classifier?\n",
    "\n",
    "Ultimately I searched on one scale using HLS 3-channel HOG features plus spatially binned color and histograms of color in the feature vector, which provided a nice result. Those features extraction, classifying and window drawing were implemented in the function `find_cars()`. To enhance the efficiency of classifying, there are few code in `find_cars()` to extract HOG features just once for the entire region of interest in each full image / video frame. Please refer to the below images for your reference."
   ]
  },
  {
   "cell_type": "markdown",
   "metadata": {},
   "source": [
    "__Import functions__"
   ]
  },
  {
   "cell_type": "code",
   "execution_count": 2,
   "metadata": {},
   "outputs": [],
   "source": [
    "import matplotlib.image as mpimg\n",
    "import matplotlib.pyplot as plt\n",
    "import numpy as np\n",
    "import cv2\n",
    "import glob\n",
    "import random\n",
    "\n",
    "% matplotlib inline"
   ]
  },
  {
   "cell_type": "code",
   "execution_count": 3,
   "metadata": {
    "scrolled": true
   },
   "outputs": [],
   "source": [
    "import pickle\n",
    "from helper_functions import convert_color, find_cars\n"
   ]
  },
  {
   "cell_type": "markdown",
   "metadata": {},
   "source": [
    "__Read in test images__"
   ]
  },
  {
   "cell_type": "code",
   "execution_count": null,
   "metadata": {},
   "outputs": [],
   "source": [
    "# Images are in JPEG format\n",
    "test_images = glob.glob('./test_images/*.jpg')\n",
    "\n",
    "# Creat a list to store the file paths\n",
    "test_images_all = []\n",
    "for image in test_images:\n",
    "    test_images_all.append(image)"
   ]
  },
  {
   "cell_type": "markdown",
   "metadata": {},
   "source": [
    "__Define parameters__"
   ]
  },
  {
   "cell_type": "code",
   "execution_count": null,
   "metadata": {},
   "outputs": [],
   "source": [
    "ystart = 400\n",
    "ystop = 656\n",
    "scale = 1.5"
   ]
  },
  {
   "cell_type": "markdown",
   "metadata": {},
   "source": [
    "__Run the following code once a new classifier is created__"
   ]
  },
  {
   "cell_type": "markdown",
   "metadata": {},
   "source": [
    "__Save a dictonary for future use__"
   ]
  },
  {
   "cell_type": "code",
   "execution_count": null,
   "metadata": {},
   "outputs": [],
   "source": [
    "# # Create dictionary\n",
    "# dict_vehicle_detection = {\"svc\": svc, \n",
    "#                           \"X_scaler\": X_scaler_final, \n",
    "#                           \"orient\": orient_final, \n",
    "#                           \"pix_per_cell\": pix_per_cell_final, \n",
    "#                           \"cell_per_block\": cell_per_block_final, \n",
    "#                           \"feature_vec\": feature_vec_final, \n",
    "#                           \"spatial_size\": spatial_size_final, \n",
    "#                           \"hog_channel\": multichannel_final, \n",
    "#                           \"hist_bins\": hist_bins_final, \n",
    "#                           \"hist_range\": hist_range_final, \n",
    "#                           \"spatial_feat\": spatial_feat, \n",
    "#                           \"hist_feat\": hist_feat, \n",
    "#                           \"hog_feat\": hog_feat,\n",
    "#                           \"ystart\": ystart,\n",
    "#                           \"ystop\": ystop,\n",
    "#                           \"scale\": scale\n",
    "#                          }\n",
    "\n",
    "# # Save dictionary\n",
    "# pickle.dump(dict_vehicle_detection, open('dict_vehicle_detection.p', 'wb'))"
   ]
  },
  {
   "cell_type": "markdown",
   "metadata": {},
   "source": [
    "__Load data file__"
   ]
  },
  {
   "cell_type": "code",
   "execution_count": 4,
   "metadata": {},
   "outputs": [],
   "source": [
    "# Load dictionary\n",
    "dict_pickle = pickle.load(open('dict_vehicle_detection.p', 'rb'))\n",
    "\n",
    "# Read data\n",
    "svc = dict_pickle[\"svc\"]\n",
    "X_scaler = dict_pickle[\"X_scaler\"]\n",
    "orient = dict_pickle[\"orient\"]\n",
    "pix_per_cell = dict_pickle[\"pix_per_cell\"]\n",
    "cell_per_block = dict_pickle[\"cell_per_block\"]\n",
    "spatial_size = dict_pickle[\"spatial_size\"]\n",
    "hist_bins = dict_pickle[\"hist_bins\"]\n",
    "hist_range = dict_pickle[\"hist_range\"]\n",
    "ystart = dict_pickle[\"ystart\"]\n",
    "ystop = dict_pickle[\"ystop\"]\n",
    "scale = dict_pickle[\"scale\"]"
   ]
  },
  {
   "cell_type": "markdown",
   "metadata": {},
   "source": [
    "__Find cars in image__"
   ]
  },
  {
   "cell_type": "code",
   "execution_count": null,
   "metadata": {
    "scrolled": true
   },
   "outputs": [],
   "source": [
    "# The actual number of features in your final feature vector will be the total number of block positions multiplied by the number of cells per block, times the number of orientations, or in the case shown above: \n",
    "# number of block positions = window size (pixels) / pixels per cell - 1\n",
    "# Example: 7 = 96/12 -1\n",
    "# 7×7×2×2×9=1764.\n",
    "\n",
    "# Initialize an empty list\n",
    "list_out_img = []\n",
    "list_windows = []\n",
    "\n",
    "for img_path in test_images_all:\n",
    "    # Read image\n",
    "    img = mpimg.imread(img_path)    \n",
    "    \n",
    "    # Scan for window scale (96, 96) and cells per step 8\n",
    "    window_size = 96\n",
    "    cell_per_step = 4\n",
    "    pix_per_cell = 12 # Change pixe per cell to make the total number of block positions = 8\n",
    "    # Find cars in the image\n",
    "    out_img_1, list_windows_1 = find_cars(img, ystart, ystop, scale, svc, X_scaler, orient, pix_per_cell, cell_per_block, spatial_size, hist_bins, hist_range, window_size, cell_per_step)\n",
    "    # Scan for window scale (64, 64) and cells per step 4\n",
    "    window_size = 64\n",
    "    cell_per_step = 4\n",
    "    pix_per_cell = 8 # Change pixe per cell to make the total number of block positions = 8\n",
    "    # Find cars in the image\n",
    "    out_img_2, list_windows_2 = find_cars(out_img_1, ystart, ystop, scale, svc, X_scaler, orient, pix_per_cell, cell_per_block, spatial_size, hist_bins, hist_range, window_size, cell_per_step)\n",
    "    # Append the output image to the list \n",
    "    list_out_img.append(out_img_2)\n",
    "    # Append the matched windows to the list \n",
    "#     print(len(list_windows_1))\n",
    "#     print(len(list_windows_2))\n",
    "    if 0 == len(list_windows_1):\n",
    "        hstack = list_windows_2\n",
    "    elif 0 == len(list_windows_2):\n",
    "        hstack = list_windows_1\n",
    "    else:\n",
    "        hstack = np.vstack((list_windows_1, list_windows_2))\n",
    "    list_windows.append(hstack)"
   ]
  },
  {
   "cell_type": "code",
   "execution_count": null,
   "metadata": {},
   "outputs": [],
   "source": [
    "# print(len(list_windows))\n",
    "# print(len(list_windows[0]))\n",
    "# print(len(list_windows[1]))\n",
    "# print(len(list_windows[2]))\n",
    "# print(len(list_windows[3]))\n",
    "# print(len(list_windows[4]))\n",
    "# print(len(list_windows[5]))"
   ]
  },
  {
   "cell_type": "markdown",
   "metadata": {},
   "source": [
    "__Plot some example images__"
   ]
  },
  {
   "cell_type": "code",
   "execution_count": null,
   "metadata": {},
   "outputs": [],
   "source": [
    "# Plot the examples\n",
    "f, axs = plt.subplots(2, 3, figsize=(36, 24))\n",
    "axs = axs.ravel()\n",
    "\n",
    "for idx in range(len(list_out_img)):\n",
    "    # Plot image\n",
    "    axs[idx].imshow(list_out_img[idx])\n",
    "    # Set title name\n",
    "    title_name = test_images_all[idx].split('\\\\')[-1]\n",
    "    axs[idx].set_title(title_name, fontsize = 20)\n",
    "\n",
    "f.tight_layout()\n",
    "plt.subplots_adjust(left=0.1, right=0.85, top=0.85, bottom=0.3)"
   ]
  },
  {
   "cell_type": "markdown",
   "metadata": {},
   "source": [
    "### Video Implementation\n",
    "\n",
    "#### 1. Provide a link to your final video output.  Your pipeline should perform reasonably well on the entire project video (somewhat wobbly or unstable bounding boxes are ok as long as you are identifying the vehicles most of the time with minimal false positives.)\n",
    "Here's a [link to my video result](./project_video.mp4)"
   ]
  },
  {
   "cell_type": "markdown",
   "metadata": {},
   "source": [
    "__Import Libraries__"
   ]
  },
  {
   "cell_type": "code",
   "execution_count": null,
   "metadata": {},
   "outputs": [],
   "source": [
    "# Import everything needed to edit/save/watch video clips\n",
    "from moviepy.editor import VideoFileClip\n",
    "from IPython.display import HTML\n",
    "\n",
    "#import numpy as np\n",
    "from helper_functions import process_image"
   ]
  },
  {
   "cell_type": "markdown",
   "metadata": {},
   "source": [
    "__Process Video__  \n",
    "Test on the given video project_video.mp4"
   ]
  },
  {
   "cell_type": "code",
   "execution_count": null,
   "metadata": {
    "scrolled": true
   },
   "outputs": [],
   "source": [
    "video_output = 'test_videos_output/project_video_output.mp4'\n",
    "## To speed up the testing process you may want to try your pipeline on a shorter subclip of the video\n",
    "## To do so add .subclip(start_second,end_second) to the end of the line below\n",
    "## Where start_second and end_second are integer values representing the start and end of the subclip\n",
    "## You may also uncomment the following line for a subclip of the first 5 seconds\n",
    "##clip1 = VideoFileClip(\"test_videos/solidWhiteRight.mp4\").subclip(0,5)\n",
    "clip1 = VideoFileClip(\"project_video.mp4\").subclip(0,3)\n",
    "# clip1 = VideoFileClip(\"project_video.mp4\")\n",
    "video_output_clip = clip1.fl_image(process_image) #NOTE: this function expects color images!!\n",
    "%time video_output_clip.write_videofile(video_output, audio=False)"
   ]
  },
  {
   "cell_type": "markdown",
   "metadata": {},
   "source": [
    "__Play Video Inline__"
   ]
  },
  {
   "cell_type": "code",
   "execution_count": null,
   "metadata": {},
   "outputs": [],
   "source": [
    "HTML(\"\"\"\n",
    "<video width=\"960\" height=\"540\" controls>\n",
    "  <source src=\"{0}\">\n",
    "</video>\n",
    "\"\"\".format(video_output))"
   ]
  },
  {
   "cell_type": "markdown",
   "metadata": {},
   "source": [
    "#### 2. Describe how (and identify where in your code) you implemented some kind of filter for false positives and some method for combining overlapping bounding boxes.\n",
    "\n",
    "I recorded the positions of positive detections in each frame of the video.  From the positive detections I created a heatmap and then thresholded that map to identify vehicle positions.  I then used `scipy.ndimage.measurements.label()` to identify individual blobs in the heatmap.  I then assumed each blob corresponded to a vehicle.  I constructed bounding boxes to cover the area of each blob detected.  \n",
    "\n",
    "Here's an example result showing the heatmap from a series of frames of video, the result of `scipy.ndimage.measurements.label()` and the bounding boxes then overlaid on the last frame of video:"
   ]
  },
  {
   "cell_type": "markdown",
   "metadata": {},
   "source": [
    "__Import librarires__"
   ]
  },
  {
   "cell_type": "code",
   "execution_count": null,
   "metadata": {},
   "outputs": [],
   "source": [
    "from scipy.ndimage.measurements import label"
   ]
  },
  {
   "cell_type": "markdown",
   "metadata": {},
   "source": [
    "__Import functions__"
   ]
  },
  {
   "cell_type": "code",
   "execution_count": null,
   "metadata": {},
   "outputs": [],
   "source": [
    "from helper_functions import add_heat, apply_threshold, draw_labeled_bboxes"
   ]
  },
  {
   "cell_type": "code",
   "execution_count": null,
   "metadata": {},
   "outputs": [],
   "source": [
    "# def add_heat(heatmap, bbox_list):\n",
    "#     # Iterate through list of bboxes\n",
    "#     for box in bbox_list:\n",
    "#         # Add += 1 for all pixels inside each bbox\n",
    "#         # Assuming each \"box\" takes the form ((x1, y1), (x2, y2))\n",
    "#         heatmap[box[0][1]:box[1][1], box[0][0]:box[1][0]] += 1\n",
    "\n",
    "#     # Return updated heatmap\n",
    "#     return heatmap# Iterate through list of bboxes"
   ]
  },
  {
   "cell_type": "code",
   "execution_count": null,
   "metadata": {},
   "outputs": [],
   "source": [
    "# def apply_threshold(heatmap, threshold):\n",
    "#     # Zero out pixels below the threshold\n",
    "#     heatmap[heatmap <= threshold] = 0\n",
    "#     # Return thresholded map\n",
    "#     return heatmap"
   ]
  },
  {
   "cell_type": "code",
   "execution_count": null,
   "metadata": {},
   "outputs": [],
   "source": [
    "# def draw_labeled_bboxes(img, labels):\n",
    "#     # Iterate through all detected cars\n",
    "#     for car_number in range(1, labels[1]+1):\n",
    "#         # Find pixels with each car_number label value\n",
    "#         nonzero = (labels[0] == car_number).nonzero()\n",
    "#         # Identify x and y values of those pixels\n",
    "#         nonzeroy = np.array(nonzero[0])\n",
    "#         nonzerox = np.array(nonzero[1])\n",
    "#         # Define a bounding box based on min/max x and y\n",
    "#         bbox = ((np.min(nonzerox), np.min(nonzeroy)), (np.max(nonzerox), np.max(nonzeroy)))\n",
    "#         # Draw the box on the image\n",
    "#         cv2.rectangle(img, bbox[0], bbox[1], (0,0,255), 6)\n",
    "#     # Return the image\n",
    "#     return img"
   ]
  },
  {
   "cell_type": "markdown",
   "metadata": {},
   "source": [
    "__Run functions__"
   ]
  },
  {
   "cell_type": "code",
   "execution_count": null,
   "metadata": {},
   "outputs": [],
   "source": [
    "# list_out_img\n",
    "# list_windows"
   ]
  },
  {
   "cell_type": "code",
   "execution_count": null,
   "metadata": {},
   "outputs": [],
   "source": []
  },
  {
   "cell_type": "code",
   "execution_count": null,
   "metadata": {},
   "outputs": [],
   "source": [
    "# Initialize an empty list\n",
    "list_draw_img = []\n",
    "list_heatmap = []\n",
    "\n",
    "for idx in range(len(test_images_all)):\n",
    "    # Read image\n",
    "    image = mpimg.imread(test_images_all[idx])\n",
    "    heat = np.zeros_like(image[:,:,0]).astype(np.float)\n",
    "\n",
    "    # Add heat to each box in box list\n",
    "    heat = add_heat(heat,list_windows[idx])\n",
    "\n",
    "    # Apply threshold to help remove false positives\n",
    "    heat = apply_threshold(heat,1)\n",
    "\n",
    "    # Visualize the heatmap when displaying    \n",
    "    heatmap = np.clip(heat, 0, 255)\n",
    "\n",
    "    # Find final boxes from heatmap using label function\n",
    "    labels = label(heatmap)\n",
    "    draw_img = draw_labeled_bboxes(np.copy(image), labels)\n",
    "    \n",
    "    # Append the output image to the list \n",
    "    list_draw_img.append(draw_img)\n",
    "    \n",
    "    # Append the output heatmap to the list \n",
    "    list_heatmap.append(heatmap)"
   ]
  },
  {
   "cell_type": "code",
   "execution_count": null,
   "metadata": {},
   "outputs": [],
   "source": []
  },
  {
   "cell_type": "markdown",
   "metadata": {},
   "source": [
    "__Plot images__"
   ]
  },
  {
   "cell_type": "code",
   "execution_count": null,
   "metadata": {},
   "outputs": [],
   "source": [
    "# Plot the draw images\n",
    "f, axs = plt.subplots(6, 3, figsize=(36, 24))\n",
    "axs = axs.ravel()\n",
    "\n",
    "for idx in range(len(list_draw_img)):\n",
    "    # Plot image\n",
    "    axs[idx*3].imshow(list_out_img[idx])\n",
    "    # Set title name\n",
    "    # title_name = test_images_all[idx].split('\\\\')[-1]\n",
    "    title_name = 'Car Positions'\n",
    "    axs[idx*3].set_title(title_name, fontsize = 20)\n",
    "    \n",
    "    # Plot image\n",
    "    axs[idx*3+1].imshow(list_draw_img[idx])\n",
    "    # Set title name\n",
    "    # title_name = test_images_all[idx].split('\\\\')[-1]\n",
    "    title_name = 'Car Positions'\n",
    "    axs[idx*3+1].set_title(title_name, fontsize = 20)\n",
    "\n",
    "    # Plot image\n",
    "    axs[idx*3+2].imshow(list_heatmap[idx], cmap='hot')\n",
    "    # Set title name\n",
    "    # title_name = test_images_all[idx].split('\\\\')[-1]\n",
    "    title_name = 'Heatmap'\n",
    "    axs[idx*3+2].set_title(title_name, fontsize = 20)\n",
    "\n",
    "f.tight_layout()\n",
    "plt.subplots_adjust(left=0.1, right=0.85, top=0.85, bottom=0.3)"
   ]
  },
  {
   "cell_type": "code",
   "execution_count": null,
   "metadata": {},
   "outputs": [],
   "source": [
    "fig = plt.figure()\n",
    "plt.subplot(121)\n",
    "plt.imshow(draw_img)\n",
    "plt.title('Car Positions')\n",
    "plt.subplot(122)\n",
    "plt.imshow(heatmap, cmap='hot')\n",
    "plt.title('Heat Map')\n",
    "fig.tight_layout()"
   ]
  },
  {
   "cell_type": "markdown",
   "metadata": {},
   "source": [
    "### Here are six frames and their corresponding heatmaps:\n",
    "\n",
    "![alt text][image5]"
   ]
  },
  {
   "cell_type": "code",
   "execution_count": null,
   "metadata": {},
   "outputs": [],
   "source": []
  },
  {
   "cell_type": "code",
   "execution_count": null,
   "metadata": {},
   "outputs": [],
   "source": []
  },
  {
   "cell_type": "markdown",
   "metadata": {},
   "source": [
    "### Here is the output of `scipy.ndimage.measurements.label()` on the integrated heatmap from all six frames:\n",
    "![alt text][image6]"
   ]
  },
  {
   "cell_type": "code",
   "execution_count": null,
   "metadata": {},
   "outputs": [],
   "source": []
  },
  {
   "cell_type": "code",
   "execution_count": null,
   "metadata": {},
   "outputs": [],
   "source": []
  },
  {
   "cell_type": "markdown",
   "metadata": {},
   "source": [
    "### Here the resulting bounding boxes are drawn onto the last frame in the series:\n",
    "![alt text][image7]"
   ]
  },
  {
   "cell_type": "code",
   "execution_count": null,
   "metadata": {},
   "outputs": [],
   "source": []
  },
  {
   "cell_type": "code",
   "execution_count": null,
   "metadata": {},
   "outputs": [],
   "source": []
  },
  {
   "cell_type": "markdown",
   "metadata": {},
   "source": [
    "### Discussion\n",
    "\n",
    "#### 1. Briefly discuss any problems / issues you faced in your implementation of this project.  Where will your pipeline likely fail?  What could you do to make it more robust?\n",
    "\n",
    "Here I'll talk about the approach I took, what techniques I used, what worked and why, where the pipeline might fail and how I might improve it if I were going to pursue this project further. "
   ]
  },
  {
   "cell_type": "code",
   "execution_count": null,
   "metadata": {},
   "outputs": [],
   "source": []
  },
  {
   "cell_type": "code",
   "execution_count": null,
   "metadata": {},
   "outputs": [],
   "source": []
  }
 ],
 "metadata": {
  "kernelspec": {
   "display_name": "Python 3",
   "language": "python",
   "name": "python3"
  },
  "language_info": {
   "codemirror_mode": {
    "name": "ipython",
    "version": 3
   },
   "file_extension": ".py",
   "mimetype": "text/x-python",
   "name": "python",
   "nbconvert_exporter": "python",
   "pygments_lexer": "ipython3",
   "version": "3.5.2"
  },
  "widgets": {
   "state": {},
   "version": "1.1.2"
  }
 },
 "nbformat": 4,
 "nbformat_minor": 2
}
